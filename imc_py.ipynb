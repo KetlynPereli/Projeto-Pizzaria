{
  "nbformat": 4,
  "nbformat_minor": 0,
  "metadata": {
    "colab": {
      "provenance": [],
      "authorship_tag": "ABX9TyP5HIuXZwbfnanMsvk4jtb3",
      "include_colab_link": true
    },
    "kernelspec": {
      "name": "python3",
      "display_name": "Python 3"
    },
    "language_info": {
      "name": "python"
    }
  },
  "cells": [
    {
      "cell_type": "markdown",
      "metadata": {
        "id": "view-in-github",
        "colab_type": "text"
      },
      "source": [
        "<a href=\"https://colab.research.google.com/github/KetlynPereli/Projeto-Pizzaria/blob/main/imc_py.ipynb\" target=\"_parent\"><img src=\"https://colab.research.google.com/assets/colab-badge.svg\" alt=\"Open In Colab\"/></a>"
      ]
    },
    {
      "cell_type": "code",
      "execution_count": 1,
      "metadata": {
        "colab": {
          "base_uri": "https://localhost:8080/"
        },
        "id": "BdfgyhT2UU3j",
        "outputId": "4fab01de-8867-4463-902c-fc037d37dbb3"
      },
      "outputs": [
        {
          "output_type": "stream",
          "name": "stdout",
          "text": [
            "Digite o nome: Ketlyn\n",
            "Digite a idade: 26\n",
            "Digite o peso (em kg): 69\n",
            "Digite a altura em centímetros: 156\n",
            "Digite o sexo (1 para masculino, 0 para feminino): 0\n",
            "\n",
            "Resultados:\n",
            "Nome: Ketlyn\n",
            "Idade: 26\n",
            "Peso: 69.0 kg\n",
            "Altura: 156.0 cm\n",
            "Sexo: Feminino\n",
            "Calorias Basal diária: 1476 kcal\n",
            "Índice de Massa Corporal (IMC) : 28.35\n",
            "Classificação do IMC: Sobrepeso\n",
            "Porcentagem de gordura corporal: 34.60 %\n",
            "Macros nutriente diarios\n",
            "Proteína: Mínimo de 110g - Máximo de 138g\n",
            "Carboidratos: Mínimo de 220g - Máximo de 276g\n",
            "Gordura: 42g\n",
            "Faixa de Peso Saudável: 56.40 kg - 60.98 kg\n",
            "Recomendação para a perda de peso que começa do consumo: 2415 kcal até 1380 kcal\n",
            "Escalonar esse valor fragmentando no mínimo em 6 semanas para parâmetros saudáveis\n",
            "Os resultados mostrados são uma base e não substituem a orientação de um nutricionista.\n"
          ]
        }
      ],
      "source": [
        "nome=input(\"Digite o nome: \")\n",
        "idade=int(input(\"Digite a idade: \"))\n",
        "peso=float(input(\"Digite o peso (em kg): \"))\n",
        "altura=float(input(\"Digite a altura em centímetros: \")) / 100  # Convertendo para metros\n",
        "sexo=int(input(\"Digite o sexo (1 para masculino, 0 para feminino): \"))\n",
        "\n",
        "# Cálculo do IMC\n",
        "imc=peso / (altura * altura)\n",
        "rf_imc=f\"{imc:.2f}\"\n",
        "\n",
        "# Cálculo da classificação do IMC\n",
        "clas_imc=\"\"\n",
        "if imc < 16:\n",
        "    clas_imc=\"Magreza grave\"\n",
        "elif 16 <= imc < 17:\n",
        "    clas_imc=\"Magreza moderada\"\n",
        "elif 17 <= imc < 18.5:\n",
        "    clas_imc=\"Magreza leve\"\n",
        "elif 18.5 <= imc < 25:\n",
        "    clas_imc=\"Saudável (normal)\"\n",
        "elif 25 <= imc < 30:\n",
        "    clas_imc=\"Sobrepeso\"\n",
        "elif 30 <= imc < 35:\n",
        "    clas_imc=\"Obesidade Grau 1\"\n",
        "elif 35 <= imc < 40:\n",
        "    clas_imc=\"Obesidade Grau 2\"\n",
        "else:\n",
        "    clas_imc=\"Obesidade Grau 3 (mórbida)\"\n",
        "\n",
        "# Cálculo do BF (Body Fat)\n",
        "bf= 1.20 * imc + 0.23 * idade - 10.8 * sexo - 5.4\n",
        "rf_bf = f\"{bf:.2f}\"\n",
        "\n",
        "# Corpo zero gordura\n",
        "fk= peso - (peso * bf / 100)\n",
        "\n",
        "# Ranges para Cut e Bulk\n",
        "cut=(int(35 * peso), int(20 * peso))\n",
        "bulk=(int(30 * peso), int(45 * peso))\n",
        "\n",
        "# Cálculo das Calorias Gastas por Dia\n",
        "calorias_gastas = 0\n",
        "if sexo == 1:\n",
        "    calorias_gastas=int(66 + (13.7 * peso) + (5 * altura * 100) - (6.8 * idade))\n",
        "else:\n",
        "    calorias_gastas=int(655 + (9.6 * peso) + (1.8 * altura * 100) - (4.7 * idade))\n",
        "\n",
        "# Cálculo da Quantidade de Proteína e Carboidratos\n",
        "proteina_min=int(peso * 1.6)\n",
        "proteina_max=int(peso * 2.0)\n",
        "carbo_min=int(peso * 3.2)\n",
        "carbo_max=int(peso * 4.0)\n",
        "\n",
        "# Cálculos de gordura\n",
        "gordura=int((calorias_gastas * 0.2) / 7)\n",
        "\n",
        "# Cálculo da Faixa de Peso Saudável de acordo com o sexo\n",
        "if sexo == 1:\n",
        "    peso_saudavel_min= fk / (1 - 0.12)\n",
        "    peso_saudavel_max= fk / (1 - 0.18)\n",
        "else:\n",
        "    peso_saudavel_min= fk / (1 - 0.20)\n",
        "    peso_saudavel_max= fk / (1 - 0.26)\n",
        "rf_psmin= f\"{peso_saudavel_min:.2f}\"\n",
        "rf_psmax= f\"{peso_saudavel_max:.2f}\"\n",
        "\n",
        "# Saída dos resultados\n",
        "print(\"\\nResultados:\")\n",
        "print(\"Nome:\", nome)\n",
        "print(\"Idade:\", idade)\n",
        "print(\"Peso:\", peso, \"kg\")\n",
        "print(\"Altura:\", altura * 100, \"cm\")\n",
        "print(\"Sexo:\", \"Masculino\" if sexo == 1 else \"Feminino\")\n",
        "print(f\"Calorias Basal diária: {calorias_gastas} kcal\")\n",
        "print(\"Índice de Massa Corporal (IMC) :\", rf_imc)\n",
        "print(\"Classificação do IMC:\", clas_imc)\n",
        "print(f\"Porcentagem de gordura corporal: {rf_bf} %\")\n",
        "print(\"Macros nutriente diarios\")\n",
        "print(f\"Proteína: Mínimo de {proteina_min}g - Máximo de {proteina_max}g\")\n",
        "print(f\"Carboidratos: Mínimo de {carbo_min}g - Máximo de {carbo_max}g\")\n",
        "print(f\"Gordura: {gordura}g\")\n",
        "print(\"Faixa de Peso Saudável:\", f\"{rf_psmin} kg - {rf_psmax} kg\")\n",
        "if imc > 25:\n",
        "    print(\n",
        "        f\"Recomendação para a perda de peso que começa do consumo: {cut[0]} kcal até {cut[1]} kcal\"\n",
        "    )\n",
        "elif imc < 25:\n",
        "    print(\n",
        "        f\"Recomendação para o ganho de peso que começa do consumo: {bulk[0]} kcal até {bulk[1]} kcal\"\n",
        "    )\n",
        "print(\n",
        "    \"Escalonar esse valor fragmentando no mínimo em 6 semanas para parâmetros saudáveis\"\n",
        ")\n",
        "print(\n",
        "    \"Os resultados mostrados são uma base e não substituem a orientação de um nutricionista.\"\n",
        ")\n"
      ]
    },
    {
      "cell_type": "code",
      "source": [],
      "metadata": {
        "id": "oOTJqfR1UfIW"
      },
      "execution_count": null,
      "outputs": []
    }
  ]
}